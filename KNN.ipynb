{
 "cells": [
  {
   "cell_type": "code",
   "execution_count": 1,
   "metadata": {},
   "outputs": [],
   "source": [
    "import numpy as np\n",
    "import pandas as pd\n",
    "from matplotlib import pyplot as plt"
   ]
  },
  {
   "cell_type": "code",
   "execution_count": 5,
   "metadata": {
    "collapsed": true
   },
   "outputs": [
    {
     "data": {
      "text/plain": [
       "(       0    1    2    3    4    5    6    7    8    9    ...  775  776  777  \\\n",
       " 0        6    0    0    0    0    0    0    0    0    0  ...    0    0    0   \n",
       " 1        5    0    0    0    0    0    0    0    0    0  ...    0    0    0   \n",
       " 2        7    0    0    0    0    0    0    0    0    0  ...    0    0    0   \n",
       " 3        9    0    0    0    0    0    0    0    0    0  ...    0    0    0   \n",
       " 4        5    0    0    0    0    0    0    0    0    0  ...    0    0    0   \n",
       " ...    ...  ...  ...  ...  ...  ...  ...  ...  ...  ...  ...  ...  ...  ...   \n",
       " 19995    0    0    0    0    0    0    0    0    0    0  ...    0    0    0   \n",
       " 19996    1    0    0    0    0    0    0    0    0    0  ...    0    0    0   \n",
       " 19997    2    0    0    0    0    0    0    0    0    0  ...    0    0    0   \n",
       " 19998    9    0    0    0    0    0    0    0    0    0  ...    0    0    0   \n",
       " 19999    5    0    0    0    0    0    0    0    0    0  ...    0    0    0   \n",
       " \n",
       "        778  779  780  781  782  783  784  \n",
       " 0        0    0    0    0    0    0    0  \n",
       " 1        0    0    0    0    0    0    0  \n",
       " 2        0    0    0    0    0    0    0  \n",
       " 3        0    0    0    0    0    0    0  \n",
       " 4        0    0    0    0    0    0    0  \n",
       " ...    ...  ...  ...  ...  ...  ...  ...  \n",
       " 19995    0    0    0    0    0    0    0  \n",
       " 19996    0    0    0    0    0    0    0  \n",
       " 19997    0    0    0    0    0    0    0  \n",
       " 19998    0    0    0    0    0    0    0  \n",
       " 19999    0    0    0    0    0    0    0  \n",
       " \n",
       " [20000 rows x 785 columns],\n",
       "       0    1    2    3    4    5    6    7    8    9    ...  775  776  777  \\\n",
       " 0       7    0    0    0    0    0    0    0    0    0  ...    0    0    0   \n",
       " 1       2    0    0    0    0    0    0    0    0    0  ...    0    0    0   \n",
       " 2       1    0    0    0    0    0    0    0    0    0  ...    0    0    0   \n",
       " 3       0    0    0    0    0    0    0    0    0    0  ...    0    0    0   \n",
       " 4       4    0    0    0    0    0    0    0    0    0  ...    0    0    0   \n",
       " ...   ...  ...  ...  ...  ...  ...  ...  ...  ...  ...  ...  ...  ...  ...   \n",
       " 9995    2    0    0    0    0    0    0    0    0    0  ...    0    0    0   \n",
       " 9996    3    0    0    0    0    0    0    0    0    0  ...    0    0    0   \n",
       " 9997    4    0    0    0    0    0    0    0    0    0  ...    0    0    0   \n",
       " 9998    5    0    0    0    0    0    0    0    0    0  ...    0    0    0   \n",
       " 9999    6    0    0    0    0    0    0    0    0    0  ...    0    0    0   \n",
       " \n",
       "       778  779  780  781  782  783  784  \n",
       " 0       0    0    0    0    0    0    0  \n",
       " 1       0    0    0    0    0    0    0  \n",
       " 2       0    0    0    0    0    0    0  \n",
       " 3       0    0    0    0    0    0    0  \n",
       " 4       0    0    0    0    0    0    0  \n",
       " ...   ...  ...  ...  ...  ...  ...  ...  \n",
       " 9995    0    0    0    0    0    0    0  \n",
       " 9996    0    0    0    0    0    0    0  \n",
       " 9997    0    0    0    0    0    0    0  \n",
       " 9998    0    0    0    0    0    0    0  \n",
       " 9999    0    0    0    0    0    0    0  \n",
       " \n",
       " [10000 rows x 785 columns])"
      ]
     },
     "execution_count": 5,
     "metadata": {},
     "output_type": "execute_result"
    }
   ],
   "source": [
    "data_train=pd.read_csv(\"C:\\\\Users\\\\ayush\\\\mnist_train_small.csv\",  header = None)\n",
    "data_test=pd.read_csv(\"C:\\\\Users\\\\ayush\\\\mnist_test.csv\",header=None)\n",
    "data_train,data_test"
   ]
  },
  {
   "cell_type": "code",
   "execution_count": 35,
   "metadata": {
    "scrolled": true
   },
   "outputs": [
    {
     "name": "stdout",
     "output_type": "stream",
     "text": [
      "(20000, 784)\n",
      "(20000,)\n",
      "(10000, 784)\n",
      "(10000,)\n"
     ]
    }
   ],
   "source": [
    "x_train=data_train.iloc[:,1:]\n",
    "y_train=data_train.iloc[:,0]\n",
    "x_test=data_test.iloc[:,1:]\n",
    "y_test=data_test.iloc[:,0]\n",
    "print(x_train.shape)\n",
    "print(y_train.shape)\n",
    "print(x_test.shape)\n",
    "print(y_test.shape)"
   ]
  },
  {
   "cell_type": "code",
   "execution_count": 50,
   "metadata": {},
   "outputs": [],
   "source": [
    "from sklearn import preprocessing\n",
    "minmax=preprocessing.MinMaxScaler(feature_range=(0,1))\n",
    "x_train=minmax.fit_transform(x_train)\n",
    "x_test=minmax.fit_transform(x_test)\n"
   ]
  },
  {
   "cell_type": "code",
   "execution_count": 163,
   "metadata": {},
   "outputs": [],
   "source": [
    "def neighbours(k,dis,train):\n",
    "    values=np.zeros(k)\n",
    "    for i in range(k):\n",
    "        values[i]=train[np.argmin(dis)]\n",
    "        dis[np.argmin(dis)]=max(dis)\n",
    "    return values   \n",
    "        "
   ]
  },
  {
   "cell_type": "code",
   "execution_count": 165,
   "metadata": {},
   "outputs": [],
   "source": [
    "def knearestneighbour(k,x_train,x_test,y_train):\n",
    "    y_pred=np.zeros(len(x_test))\n",
    "    for i in range(len(x_test)):\n",
    "        distance=np.zeros(len(x_train))\n",
    "        for j in range(len(x_train)):\n",
    "            distance[j]=np.sqrt(np.sum((x_train[j]-x_test[i])**2))\n",
    "        neighbouring_values=np.copy(neighbours(k,distance,y_train))\n",
    "        unique,count=np.unique(neighbouring_values, return_counts=True)\n",
    "        y_pred[i]=unique[np.argmax(count)]\n",
    "        if(i%500==0):\n",
    "            print(\"running:\",i)\n",
    "    return y_pred"
   ]
  },
  {
   "cell_type": "code",
   "execution_count": 166,
   "metadata": {},
   "outputs": [
    {
     "name": "stdout",
     "output_type": "stream",
     "text": [
      "running: 0\n",
      "running: 500\n",
      "running: 1000\n",
      "running: 1500\n",
      "running: 2000\n",
      "running: 2500\n",
      "running: 3000\n",
      "running: 3500\n",
      "running: 4000\n",
      "running: 4500\n",
      "running: 5000\n",
      "running: 5500\n",
      "running: 6000\n",
      "running: 6500\n",
      "running: 7000\n",
      "running: 7500\n",
      "running: 8000\n",
      "running: 8500\n",
      "running: 9000\n",
      "running: 9500\n"
     ]
    },
    {
     "data": {
      "text/plain": [
       "array([7., 2., 1., ..., 4., 5., 6.])"
      ]
     },
     "execution_count": 166,
     "metadata": {},
     "output_type": "execute_result"
    }
   ],
   "source": [
    "y_pred=knearestneighbour(101,x_train,x_test,y_train)\n",
    "y_pred"
   ]
  },
  {
   "cell_type": "code",
   "execution_count": 169,
   "metadata": {},
   "outputs": [],
   "source": [
    "def accuracy(y_pred,y_test):\n",
    "    correct_predictions=0\n",
    "    for i in range(len(y_test)):\n",
    "        if(y_pred[i]==y_test[i]):\n",
    "            correct_predictions+=1\n",
    "    print(\"Accuracy is\",correct_predictions*100/len(y_test))"
   ]
  },
  {
   "cell_type": "code",
   "execution_count": 170,
   "metadata": {},
   "outputs": [
    {
     "name": "stdout",
     "output_type": "stream",
     "text": [
      "Accuracy is 91.68\n"
     ]
    }
   ],
   "source": [
    "accuracy(y_pred,y_test)"
   ]
  }
 ],
 "metadata": {
  "kernelspec": {
   "display_name": "Python 3",
   "language": "python",
   "name": "python3"
  },
  "language_info": {
   "codemirror_mode": {
    "name": "ipython",
    "version": 3
   },
   "file_extension": ".py",
   "mimetype": "text/x-python",
   "name": "python",
   "nbconvert_exporter": "python",
   "pygments_lexer": "ipython3",
   "version": "3.8.5"
  }
 },
 "nbformat": 4,
 "nbformat_minor": 4
}
